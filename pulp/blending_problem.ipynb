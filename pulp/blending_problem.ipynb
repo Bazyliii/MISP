{
 "cells": [
  {
   "cell_type": "code",
   "execution_count": 21,
   "metadata": {},
   "outputs": [],
   "source": [
    "import pulp\n",
    "from pulp import LpInteger, LpMaximize, LpMinimize, LpProblem, LpStatus, LpVariable, value, lpSum\n"
   ]
  },
  {
   "cell_type": "code",
   "execution_count": 3,
   "metadata": {},
   "outputs": [
    {
     "name": "stderr",
     "output_type": "stream",
     "text": [
      "sssssssssssssssssssssssssssssssssssssssssss"
     ]
    },
    {
     "name": "stdout",
     "output_type": "stream",
     "text": [
      "Available solvers: ['PULP_CBC_CMD']\n",
      "Unavailable solvers: {'COPT_DLL', 'CHOCO_CMD', 'MIPCL_CMD', 'CPLEX_CMD', 'COPT_CMD', 'SCIP_CMD', 'GLPK_CMD', 'COPT', 'GUROBI_CMD', 'MOSEK', 'COINMP_DLL', 'COIN_CMD', 'GUROBI', 'FSCIP_CMD', 'XPRESS', 'PYGLPK', 'HiGHS_CMD', 'SCIP_PY', 'XPRESS_PY', 'HiGHS', 'CPLEX_PY'}\n"
     ]
    },
    {
     "name": "stderr",
     "output_type": "stream",
     "text": [
      "sssssssssssssssssssssssssssssssssssssssssssssssssssssssssssssssssssssssssssssssssssssssssssssssssssssssssssssssssssssssssssssssssssssssssssssssssssssssssssssssssssssssssssssssssssssssssssssssssssssssssssssssssssssssssssssssssssssssssssssssssssssssssssssssssssssssssssssssssssssssssssssssssssssssssssssssssssssssssssssssssssssssssssssssssssssssssssssssssssssssssssssssssssssssssssssssssssssssssssssssssssssssssssssssssssssssssssssssssssssssssssssssssssssssssssssssssssssssssssssssssssssssssssssssssssssssssssssssssssssssssssssssssssssssssssssssssssssssssssssssssssssssssssssssssssssssssssssssssssssssssssssssssssssssssssssssssssssssssssssssssssssssssssssssssssssssssssssssssssssssssssssssssssssssssssssssssssssssssssssssssssssssssssssssssssssssssssssssssssssssssssssssssssssssssssssssssssssssssssssssssssssssssssssssssssssssssssssssssssssssssssssssssssss................................................................ssssssssssssssssssssssssssssssssssssssssssssssssssssssssssssssssssssssssssssssssssssssssssssssssssssssssssssssssssssssssssssssssssssssssssssssssssssssssssssssssssssssssssssssssssssssssssssssssssssssssssssssssssssssssssssssssssssssssssssssssssssssssssssssssssssssssssssssssssssssssssssssssssssssssssssssssssssssssssssssssssssssssssssssssssssssssssssssssssssssssssssssssssssssssssssssssssss\n",
      "----------------------------------------------------------------------\n",
      "Ran 1348 tests in 28.594s\n",
      "\n",
      "OK (skipped=1284)\n"
     ]
    }
   ],
   "source": [
    "pulp.pulpTestAll()"
   ]
  },
  {
   "cell_type": "markdown",
   "metadata": {},
   "source": [
    "# The Whiskas Problem"
   ]
  },
  {
   "cell_type": "code",
   "execution_count": 19,
   "metadata": {},
   "outputs": [
    {
     "name": "stdout",
     "output_type": "stream",
     "text": [
      "Status: Optimal\n",
      "BeefPercent = 1.6129032\n",
      "ChickenPercent = 75.0\n",
      "SardinesPercent = 23.387097\n",
      "Całkowity koszt składników to: 1.22 zł\n"
     ]
    }
   ],
   "source": [
    "items: dict = {\n",
    "    \"chicken\": [0.1, 0.08, 0.001, 0.002, 0.013],\n",
    "    \"beef\": [0.2, 0.1, 0.005, 0.005, 0.008],\n",
    "    \"sardines\": [0.15, 0.11, 0.003, 0.007, 0.010],\n",
    "}\n",
    "\n",
    "problem_01 = LpProblem(\"The_Whiskas_Problem\", LpMinimize)\n",
    "\n",
    "p_01_x01 = LpVariable(\"ChickenPercent\", 0, None, LpInteger)\n",
    "p_01_x02 = LpVariable(\"BeefPercent\", 0)\n",
    "p_01_x03 = LpVariable(\"SardinesPercent\", 0)\n",
    "\n",
    "problem_01 += items[\"chicken\"][4] * p_01_x01 + items[\"beef\"][4] * p_01_x02 + items[\"sardines\"][4] * p_01_x03, \"Total Cost of Ingredients per can\"\n",
    "\n",
    "problem_01 += p_01_x01 + p_01_x02 + p_01_x03 == 100, \"PercentagesSum\"\n",
    "\n",
    "\n",
    "problem_01 += items[\"chicken\"][0] * p_01_x01 + items[\"beef\"][0] * p_01_x02 + items[\"sardines\"][0] * p_01_x02 >= 8.0, \"ProteinRequirement\"\n",
    "problem_01 += items[\"chicken\"][1] * p_01_x01 + items[\"beef\"][1] * p_01_x02 + items[\"sardines\"][0] * p_01_x02 >= 6.0, \"FatRequirement\"\n",
    "problem_01 += items[\"chicken\"][2] * p_01_x01 + items[\"beef\"][2] * p_01_x02 + items[\"sardines\"][0] * p_01_x02 <= 2.0, \"FibreRequirement\"\n",
    "problem_01 += items[\"chicken\"][3] * p_01_x01 + items[\"beef\"][3] * p_01_x02 + items[\"sardines\"][0] * p_01_x02 <= 0.4, \"SaltRequirement\"\n",
    "\n",
    "problem_01.writeLP(\"WhiskasModel.lp\")\n",
    "problem_01.solve()\n",
    "\n",
    "print(\"Status:\", LpStatus[problem_01.status])\n",
    "\n",
    "for v in problem_01.variables():\n",
    "    print(v.name, \"=\", v.varValue)\n",
    "\n",
    "\n",
    "print(\"Całkowity koszt składników to:\", round(value(problem_01.objective), 2), \"zł\")"
   ]
  },
  {
   "cell_type": "markdown",
   "metadata": {},
   "source": [
    "# Blending problem:"
   ]
  },
  {
   "cell_type": "code",
   "execution_count": 23,
   "metadata": {},
   "outputs": [
    {
     "name": "stdout",
     "output_type": "stream",
     "text": [
      "Końcowy produkt będzie kosztować: 0.31897142644zł, będzie miał w składzie:\n",
      "Ingr_BEEF: 34.285714%\n",
      "Ingr_CHICKEN: 0.0%\n",
      "Ingr_GEL: 42.857143%\n",
      "Ingr_MUTTON: 0.0%\n",
      "Ingr_RICE: 0.0%\n",
      "Ingr_SARDINES: 22.857143%\n",
      "Ingr_WHEAT: 0.0%\n"
     ]
    }
   ],
   "source": [
    "Ingredients = [\"CHICKEN\", \"BEEF\", \"MUTTON\", \"RICE\", \"WHEAT\", \"GEL\", \"SARDINES\"]\n",
    "costs = {\"CHICKEN\": 0.013, \"BEEF\": 0.008, \"MUTTON\": 0.010, \"RICE\": 0.002, \"WHEAT\": 0.005, \"GEL\": 0.001, \"SARDINES\": 0.00008}\n",
    "proteinPercent = {\"CHICKEN\": 0.100, \"BEEF\": 0.200, \"MUTTON\": 0.150, \"RICE\": 0.000, \"WHEAT\": 0.040, \"GEL\": 0.000, \"SARDINES\": 0.05}\n",
    "fatPercent = {\"CHICKEN\": 0.080, \"BEEF\": 0.100, \"MUTTON\": 0.110, \"RICE\": 0.010, \"WHEAT\": 0.010, \"GEL\": 0.000, \"SARDINES\": 0.15}\n",
    "fibrePercent = {\"CHICKEN\": 0.001, \"BEEF\": 0.005, \"MUTTON\": 0.003, \"RICE\": 0.100, \"WHEAT\": 0.150, \"GEL\": 0.000, \"SARDINES\": 0.0}\n",
    "saltPercent = {\"CHICKEN\": 0.002, \"BEEF\": 0.005, \"MUTTON\": 0.007, \"RICE\": 0.002, \"WHEAT\": 0.008, \"GEL\": 0.000, \"SARDINES\": 0.01}\n",
    "\n",
    "vitaminB = {\"CHICKEN\": 0.3, \"BEEF\": 2.6, \"MUTTON\": 2.6, \"RICE\": 0.0, \"WHEAT\": 0.0, \"GEL\": 0.0, \"SARDINES\": 8.9}\n",
    "\n",
    "\n",
    "cat_weight: int = 4\n",
    "\n",
    "problem_02 = LpProblem(\"The Whiskas Problem Maximus\", LpMinimize)\n",
    "\n",
    "ingredient_variables = LpVariable.dicts(\"Ingr\", Ingredients, 0)\n",
    "\n",
    "problem_02 += lpSum([costs[i] * ingredient_variables[i] for i in Ingredients]), \"Total Cost of Ingredients per can\"\n",
    "\n",
    "problem_02 += lpSum([ingredient_variables[x] for x in Ingredients]) == 100, \"PercentagesSum\"\n",
    "problem_02 += lpSum([proteinPercent[x] * ingredient_variables[x] for x in Ingredients]) >= 8.0, \"ProteinRequirement\"\n",
    "problem_02 += lpSum([fatPercent[x] * ingredient_variables[x] for x in Ingredients]) >= 6.0, \"FatRequirement\"\n",
    "problem_02 += lpSum([fibrePercent[x] * ingredient_variables[x] for x in Ingredients]) <= 2.0, \"FibreRequirement\"\n",
    "problem_02 += lpSum([saltPercent[x] * ingredient_variables[x] for x in Ingredients]) <= 0.4, \"SaltRequirement\"\n",
    "problem_02 += lpSum([vitaminB[x] * ingredient_variables[x] for x in Ingredients]) >= 0.24 * cat_weight, \"VitaminBRequirement\"\n",
    "\n",
    "problem_02.solve()\n",
    "\n",
    "print(f\"Końcowy produkt będzie kosztować: {value(problem_02.objective)}zł, będzie miał w składzie:\")\n",
    "for v in problem_02.variables():\n",
    "    print(f\"{v.name}: {v.varValue}%\")\n"
   ]
  }
 ],
 "metadata": {
  "kernelspec": {
   "display_name": "Python 3",
   "language": "python",
   "name": "python3"
  },
  "language_info": {
   "codemirror_mode": {
    "name": "ipython",
    "version": 3
   },
   "file_extension": ".py",
   "mimetype": "text/x-python",
   "name": "python",
   "nbconvert_exporter": "python",
   "pygments_lexer": "ipython3",
   "version": "3.13.1"
  }
 },
 "nbformat": 4,
 "nbformat_minor": 2
}
