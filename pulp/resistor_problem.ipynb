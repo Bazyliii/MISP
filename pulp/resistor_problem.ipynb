{
 "cells": [
  {
   "cell_type": "code",
   "execution_count": 5,
   "metadata": {},
   "outputs": [],
   "source": [
    "from pulp import LpMaximize, LpMinimize, LpProblem, LpStatus, LpVariable, value\n"
   ]
  },
  {
   "cell_type": "markdown",
   "metadata": {},
   "source": [
    "# Maksymalny prąd:"
   ]
  },
  {
   "cell_type": "code",
   "execution_count": 3,
   "metadata": {},
   "outputs": [
    {
     "name": "stdout",
     "output_type": "stream",
     "text": [
      "Status: Optimal\n",
      "i1 = 1.54 A\n",
      "i2 = 2.06 A\n",
      "i3 = 3.6 A\n",
      "i4 = 1.6 A\n",
      "i5 = 2.0 A\n",
      "Maksymalny prąd w układzie to: 3.6 A\n"
     ]
    }
   ],
   "source": [
    "r1: int = 8  # Ohm\n",
    "r2: int = 6  # Ohm\n",
    "r3: int = 4  # Ohm\n",
    "r4: int = 10  # Ohm\n",
    "r5: int = 8  # Ohm\n",
    "\n",
    "i1: LpVariable = LpVariable(\"i1\", 0, 2)\n",
    "i2: LpVariable = LpVariable(\"i2\", 0, 3)\n",
    "i3: LpVariable = LpVariable(\"i3\", 0, 4)\n",
    "i4: LpVariable = LpVariable(\"i4\", 0, 2)\n",
    "i5: LpVariable = LpVariable(\"i5\", 0, 2)\n",
    "\n",
    "problem = LpProblem(\"Maksymalny_prąd\", LpMaximize)\n",
    "\n",
    "problem += i1 + i2 == i3\n",
    "problem += i4 + i5 == i3\n",
    "problem += i1 * r1 == i2 * r2\n",
    "problem += i4 * r4 == i5 * r5\n",
    "problem += i3\n",
    "\n",
    "problem.solve()\n",
    "print(\"Status:\", LpStatus[problem.status])\n",
    "temp = []\n",
    "for v in problem.variables():\n",
    "    temp.append(round(v.varValue, 2))\n",
    "    print(v.name, \"=\", round(v.varValue, 2), \"A\")\n",
    "print(f\"Maksymalny prąd w układzie to: {max(temp)} A\")"
   ]
  },
  {
   "cell_type": "markdown",
   "metadata": {},
   "source": [
    "# Minimalizacja utraconej mocy:\n",
    "\n",
    "|i|1|2|3|4|5||\n",
    "|-|-|-|-|-|-|-|\n",
    "|u_i|6|10|4|7|3|V|\n",
    "|i_i|4|2|2|2|4|mA|\n",
    "|delta_i|1|1|1|1|1|mA|\n"
   ]
  },
  {
   "cell_type": "code",
   "execution_count": 6,
   "metadata": {},
   "outputs": [
    {
     "name": "stdout",
     "output_type": "stream",
     "text": [
      "__dummy = None\n",
      "i1 = 0.003\n",
      "i2 = 0.001\n",
      "i3 = 0.002\n",
      "i4 = 0.001\n",
      "i5 = 0.003\n",
      "p = 0.052\n",
      "z1 = 0.0005\n",
      "z2 = 0.0001\n",
      "z3 = 0.0005\n",
      "z4 = 0.00014285714\n",
      "z5 = 0.001\n",
      "2000.0 Ohm, 10000.0 Ohm, 2000.0 Ohm, 7000.000140000004 Ohm, 1000.0 Ohm\n"
     ]
    }
   ],
   "source": [
    "u1: int = 6  # V\n",
    "u2: int = 10  # V\n",
    "u3: int = 4  # V\n",
    "u4: int = 7  # V\n",
    "u5: int = 3  # V\n",
    "\n",
    "i1: LpVariable = LpVariable(\"i1\", 3 / 1000, 5 / 1000)  # A\n",
    "i2: LpVariable = LpVariable(\"i2\", 1 / 1000, 3 / 1000)  # A\n",
    "i3: LpVariable = LpVariable(\"i3\", 1 / 1000, 3 / 1000)  # A\n",
    "i4: LpVariable = LpVariable(\"i4\", 1 / 1000, 3 / 1000)  # A\n",
    "i5: LpVariable = LpVariable(\"i5\", 3 / 1000, 5 / 1000)  # A\n",
    "\n",
    "z1: LpVariable = LpVariable(\"z1\", 0)\n",
    "z2: LpVariable = LpVariable(\"z2\", 0)\n",
    "z3: LpVariable = LpVariable(\"z3\", 0)\n",
    "z4: LpVariable = LpVariable(\"z4\", 0)\n",
    "z5: LpVariable = LpVariable(\"z5\", 0)\n",
    "\n",
    "p: LpVariable = LpVariable(\"p\", 0)\n",
    "\n",
    "\n",
    "problem = LpProblem(\"Minimalizacja_utraconej_mocy\", LpMinimize)\n",
    "\n",
    "problem += (u1**2 * z1) + (u2**2 * z2) + (u3**2 * z3) + (u4**2 * z4) + (u5**2 * z5) == p\n",
    "\n",
    "problem += i1 == (i3 + i4)\n",
    "problem += (i1 + i2) == (i4 + i5)\n",
    "problem += (i2 + i3) == i5\n",
    "\n",
    "problem += i1 == u1 * z1\n",
    "problem += i2 == u2 * z2\n",
    "problem += i3 == u3 * z3\n",
    "problem += i4 == u4 * z4\n",
    "problem += i5 == u5 * z5\n",
    "\n",
    "\n",
    "problem.solve()\n",
    "\n",
    "for v in problem.variables():\n",
    "    print(v.name, \"=\", v.varValue)\n",
    "\n",
    "zz1 = 1 / problem.variables()[7].varValue\n",
    "zz2 = 1 / problem.variables()[8].varValue\n",
    "zz3 = 1 / problem.variables()[9].varValue\n",
    "zz4 = 1 / problem.variables()[10].varValue\n",
    "zz5 = 1 / problem.variables()[11].varValue\n",
    "print(f\"{zz1} Ohm, {zz2} Ohm, {zz3} Ohm, {zz4} Ohm, {zz5} Ohm\")"
   ]
  }
 ],
 "metadata": {
  "kernelspec": {
   "display_name": "Python 3",
   "language": "python",
   "name": "python3"
  },
  "language_info": {
   "codemirror_mode": {
    "name": "ipython",
    "version": 3
   },
   "file_extension": ".py",
   "mimetype": "text/x-python",
   "name": "python",
   "nbconvert_exporter": "python",
   "pygments_lexer": "ipython3",
   "version": "3.13.1"
  }
 },
 "nbformat": 4,
 "nbformat_minor": 2
}
